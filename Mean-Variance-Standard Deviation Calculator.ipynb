{
 "cells": [
  {
   "cell_type": "code",
   "execution_count": 1,
   "id": "bc1672b4-e9bb-4068-9909-ce4dac38842f",
   "metadata": {},
   "outputs": [],
   "source": [
    "import numpy as np\n",
    "\n",
    "\n",
    "def calculate(list):\n",
    "    if (len(list) != 9):\n",
    "        raise ValueError(\"List must contain nine numbers.\")\n",
    "\n",
    "    b = np.reshape( list, (3,3) )\n",
    "    print(b)\n",
    "\n",
    " \n",
    "    mean1 = np.mean(b, axis=0).tolist()  \n",
    "    mean2 = np.mean(b, axis=1).tolist()\n",
    "\n",
    "    var1=  np.var(b, axis=0).tolist()\n",
    "    var2= np.var(b, axis=1).tolist()\n",
    "\n",
    "    std1= np.std(b, axis=0).tolist()\n",
    "    std2= np.std(b, axis=1).tolist()\n",
    "\n",
    "    max1= np.max(b, axis=0).tolist()\n",
    "    max2= np.max(b, axis=1).tolist()\n",
    "\n",
    "    min1= np.min(b, axis=0).tolist()\n",
    "    min2= np.min(b, axis=1).tolist()\n",
    "\n",
    "    sum1= np.sum(b, axis=0).tolist()\n",
    "    sum2= np.sum(b, axis=1).tolist()\n",
    "\n",
    "   \n",
    "\n",
    "\n",
    "    return {\n",
    "     \"mean\": [mean1, mean2, b.mean()],\n",
    "     'variance': [var1, var2, b.var()],\n",
    "     'standard deviation': [std1, std2, b.std()],\n",
    "     'max': [max1, max2, b.max()],\n",
    "     'min': [min1, min2, b.min()],\n",
    "     'sum': [sum1, sum2, b.sum()]\n",
    "      }\n",
    "\n"
   ]
  },
  {
   "cell_type": "code",
   "execution_count": 2,
   "id": "d795f93e-d1fc-4314-afe3-c028e86a9331",
   "metadata": {},
   "outputs": [],
   "source": [
    "list = ([ 23, 55, 13, 54, 54, 66, 87, 88, 13])"
   ]
  },
  {
   "cell_type": "code",
   "execution_count": 3,
   "id": "7b060bb6-4832-4a68-912f-7b3a393d66ad",
   "metadata": {},
   "outputs": [
    {
     "name": "stdout",
     "output_type": "stream",
     "text": [
      "[[23 55 13]\n",
      " [54 54 66]\n",
      " [87 88 13]]\n"
     ]
    },
    {
     "data": {
      "text/plain": [
       "{'mean': [[54.666666666666664, 65.66666666666667, 30.666666666666668],\n",
       "  [30.333333333333332, 58.0, 62.666666666666664],\n",
       "  50.333333333333336],\n",
       " 'variance': [[682.8888888888888, 249.55555555555554, 624.2222222222221],\n",
       "  [320.88888888888886, 32.0, 1233.5555555555554],\n",
       "  732.4444444444445],\n",
       " 'standard deviation': [[26.132142830026183,\n",
       "   15.797327481430381,\n",
       "   24.984439601924677],\n",
       "  [17.9133717900592, 5.656854249492381, 35.122009560324926],\n",
       "  27.063710840245918],\n",
       " 'max': [[87, 88, 66], [55, 66, 88], 88],\n",
       " 'min': [[23, 54, 13], [13, 54, 13], 13],\n",
       " 'sum': [[164, 197, 92], [91, 174, 188], 453]}"
      ]
     },
     "execution_count": 3,
     "metadata": {},
     "output_type": "execute_result"
    }
   ],
   "source": [
    "calculate(list)"
   ]
  },
  {
   "cell_type": "code",
   "execution_count": null,
   "id": "95b94da9-cfbf-48af-9115-b54eef77dea2",
   "metadata": {},
   "outputs": [],
   "source": []
  }
 ],
 "metadata": {
  "kernelspec": {
   "display_name": "Python 3 (ipykernel)",
   "language": "python",
   "name": "python3"
  },
  "language_info": {
   "codemirror_mode": {
    "name": "ipython",
    "version": 3
   },
   "file_extension": ".py",
   "mimetype": "text/x-python",
   "name": "python",
   "nbconvert_exporter": "python",
   "pygments_lexer": "ipython3",
   "version": "3.9.7"
  }
 },
 "nbformat": 4,
 "nbformat_minor": 5
}
